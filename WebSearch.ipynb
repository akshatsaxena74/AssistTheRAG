{
 "cells": [
  {
   "cell_type": "code",
   "execution_count": null,
   "metadata": {},
   "outputs": [],
   "source": [
    "import http.client\n",
    "import json\n",
    "\n",
    "api = \"...\"\n",
    "query = \"...\""
   ]
  },
  {
   "cell_type": "code",
   "execution_count": null,
   "metadata": {},
   "outputs": [],
   "source": [
    "class WebSearcher():\n",
    "    def __init__(self, api_key):\n",
    "        self.api_key = api_key\n",
    "    \n",
    "    def preprocess_text(self, data_dict):\n",
    "        contents = []        \n",
    "        for result in data_dict.get('organic', []):\n",
    "            snippet = result.get('snippet', '')\n",
    "            contents.append(snippet)\n",
    "        for item in data_dict.get('peopleAlsoAsk', []):\n",
    "            answer = item.get('snippet', '')\n",
    "            contents.append(answer)\n",
    "        \n",
    "        return contents\n",
    "\n",
    "    def search(self, query):\n",
    "        conn = http.client.HTTPSConnection(\"google.serper.dev\")\n",
    "        payload = json.dumps({\n",
    "        \"q\": query\n",
    "        })\n",
    "        headers = {\n",
    "        'X-API-KEY': self.api_key,\n",
    "        'Content-Type': 'application/json'\n",
    "        }\n",
    "        conn.request(\"POST\", \"/search\", payload, headers)\n",
    "        res = conn.getresponse()\n",
    "        data = res.read()\n",
    "        data_dict = json.loads(data)\n",
    "        \n",
    "        return self.preprocess_text(data_dict)"
   ]
  },
  {
   "cell_type": "code",
   "execution_count": 2,
   "metadata": {},
   "outputs": [],
   "source": [
    "#### To get the site link, we can implement the following function    \n",
    "# sites = []\n",
    "# for result in data_dict.get('organic', []):\n",
    "# # Get the main site link\n",
    "#     link = result.get('link', '')\n",
    "#     sites.append(link)\n",
    "\n",
    "# # Check if there are sitelinks and extract them\n",
    "# sitelinks = result.get('sitelinks', [])\n",
    "# for sitelink in sitelinks:\n",
    "#     sites.append(sitelink.get('link', ''))"
   ]
  },
  {
   "cell_type": "code",
   "execution_count": null,
   "metadata": {},
   "outputs": [],
   "source": []
  }
 ],
 "metadata": {
  "kernelspec": {
   "display_name": "cuda",
   "language": "python",
   "name": "python3"
  },
  "language_info": {
   "codemirror_mode": {
    "name": "ipython",
    "version": 3
   },
   "file_extension": ".py",
   "mimetype": "text/x-python",
   "name": "python",
   "nbconvert_exporter": "python",
   "pygments_lexer": "ipython3",
   "version": "3.9.20"
  }
 },
 "nbformat": 4,
 "nbformat_minor": 2
}

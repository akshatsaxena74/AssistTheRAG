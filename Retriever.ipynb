{
 "cells": [
  {
   "cell_type": "code",
   "execution_count": 1,
   "metadata": {},
   "outputs": [
    {
     "name": "stdout",
     "output_type": "stream",
     "text": [
      "Note: you may need to restart the kernel to use updated packages.\n"
     ]
    }
   ],
   "source": [
    "%pip install -q chromadb"
   ]
  },
  {
   "cell_type": "code",
   "execution_count": 2,
   "metadata": {},
   "outputs": [],
   "source": [
    "import chromadb\n",
    "chroma_client = chromadb.Client()"
   ]
  },
  {
   "cell_type": "code",
   "execution_count": 3,
   "metadata": {},
   "outputs": [],
   "source": [
    "class Retriever():\n",
    "    def __init__(self, db, searching_method, collection_name = \"retriever\"):\n",
    "        self.db = db\n",
    "        self.searching_method = searching_method\n",
    "        self.collection_name = collection_name\n",
    "    \n",
    "    def vector_db(self):\n",
    "        if self.collection_name in self.db.list_collections():\n",
    "            collection = self.db.get_collection(name=self.collection_name)\n",
    "        else:\n",
    "            collection = self.db.create_collection(\n",
    "                name=self.collection_name,\n",
    "                metadata={\"hnsw:space\": self.searching_method}  # Use the provided method\n",
    "            )\n",
    "        return collection\n",
    "    \n",
    "    def add(self, vector_db, prev_chat, count):\n",
    "        vector_db.add(\n",
    "            documents = [\n",
    "            prev_chat\n",
    "        ],\n",
    "        ids = [str(count)]\n",
    "        )     \n",
    "        count = count + 1\n",
    "        return count\n",
    "    \n",
    "    def retrieve(self, vector_db, query,):\n",
    "        results = vector_db.query(\n",
    "            query_texts = [query],\n",
    "            n_results = 5,\n",
    "        )\n",
    "        return results[\"documents\"]"
   ]
  },
  {
   "cell_type": "code",
   "execution_count": null,
   "metadata": {},
   "outputs": [],
   "source": [
    "####SAMPLE CODE\n",
    "# memory_retriever = Retriever(chroma_client, \"l2\")\n",
    "# collection = memory_retriever.vector_db()\n",
    "# count = 1\n",
    "# chats = \"My name is Akshat\"\n",
    "# count = memory_retriever.add(vector_db=collection, prev_chat=chats, count=count)\n",
    "\n",
    "# memory_retriever.retrieve(collection, \"What is my name?\")"
   ]
  },
  {
   "cell_type": "code",
   "execution_count": null,
   "metadata": {},
   "outputs": [],
   "source": []
  }
 ],
 "metadata": {
  "kernelspec": {
   "display_name": "cuda",
   "language": "python",
   "name": "python3"
  },
  "language_info": {
   "codemirror_mode": {
    "name": "ipython",
    "version": 3
   },
   "file_extension": ".py",
   "mimetype": "text/x-python",
   "name": "python",
   "nbconvert_exporter": "python",
   "pygments_lexer": "ipython3",
   "version": "3.9.20"
  }
 },
 "nbformat": 4,
 "nbformat_minor": 2
}
